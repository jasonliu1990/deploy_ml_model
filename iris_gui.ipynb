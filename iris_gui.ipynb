{
 "cells": [
  {
   "cell_type": "code",
   "execution_count": 1,
   "metadata": {},
   "outputs": [],
   "source": [
    "import ipywidgets as widgets\n",
    "from IPython.display import display\n",
    "import pandas as pd\n",
    "import numpy as np\n",
    "import lightgbm\n",
    "import pickle"
   ]
  },
  {
   "cell_type": "code",
   "execution_count": 2,
   "metadata": {},
   "outputs": [],
   "source": [
    "def predict(sepal_length, sepal_width, petal_length, petal_width):\n",
    "    with open('model/iris.pkl', 'rb') as f:\n",
    "        model = pickle.load(f)\n",
    "    X = np.array([[sepal_length, sepal_width, petal_length, petal_width]])    \n",
    "    Y = model.predict(X)\n",
    "    cate_map = {0: 'setosa',\n",
    "                1: 'versicolor',\n",
    "                2: 'virginica'}    \n",
    "    \n",
    "    return print(cate_map[Y[0]])\n"
   ]
  },
  {
   "cell_type": "code",
   "execution_count": 3,
   "metadata": {},
   "outputs": [
    {
     "data": {
      "application/vnd.jupyter.widget-view+json": {
       "model_id": "b193366bad794d5aacbc44ac74088c2c",
       "version_major": 2,
       "version_minor": 0
      },
      "text/plain": [
       "FloatText(value=0.0, description='花萼長度')"
      ]
     },
     "metadata": {},
     "output_type": "display_data"
    },
    {
     "data": {
      "application/vnd.jupyter.widget-view+json": {
       "model_id": "a6ca30df60434f478fa75105792b4e03",
       "version_major": 2,
       "version_minor": 0
      },
      "text/plain": [
       "FloatText(value=0.0, description='花萼寬度')"
      ]
     },
     "metadata": {},
     "output_type": "display_data"
    },
    {
     "data": {
      "application/vnd.jupyter.widget-view+json": {
       "model_id": "70fe47d6029f476a8d91cd172c03a6fa",
       "version_major": 2,
       "version_minor": 0
      },
      "text/plain": [
       "FloatText(value=0.0, description='花瓣長度')"
      ]
     },
     "metadata": {},
     "output_type": "display_data"
    },
    {
     "data": {
      "application/vnd.jupyter.widget-view+json": {
       "model_id": "54d9e77e9e73475fba45921fab74ff00",
       "version_major": 2,
       "version_minor": 0
      },
      "text/plain": [
       "FloatText(value=0.0, description='花瓣寬度')"
      ]
     },
     "metadata": {},
     "output_type": "display_data"
    }
   ],
   "source": [
    "sepal_length = widgets.FloatText(\n",
    "    value=0,\n",
    "    description='花萼長度',\n",
    "    disabled=False\n",
    ")\n",
    "sepal_width = widgets.FloatText(\n",
    "    value=0,\n",
    "    description='花萼寬度',\n",
    "    disabled=False\n",
    ")\n",
    "petal_length = widgets.FloatText(\n",
    "    value=0,\n",
    "    description='花瓣長度',\n",
    "    disabled=False\n",
    ")\n",
    "petal_width = widgets.FloatText(\n",
    "    value=0,\n",
    "    description='花瓣寬度',\n",
    "    disabled=False\n",
    ")\n",
    "display(sepal_length, sepal_width, petal_length, petal_width)"
   ]
  },
  {
   "cell_type": "code",
   "execution_count": 4,
   "metadata": {},
   "outputs": [
    {
     "name": "stdout",
     "output_type": "stream",
     "text": [
      "virginica\n"
     ]
    }
   ],
   "source": [
    "predict(sepal_length.value, sepal_width.value, petal_length.value, petal_width.value)"
   ]
  },
  {
   "cell_type": "code",
   "execution_count": null,
   "metadata": {},
   "outputs": [],
   "source": []
  }
 ],
 "metadata": {
  "kernelspec": {
   "display_name": "tensorFlow",
   "language": "python",
   "name": "tensorflow"
  },
  "language_info": {
   "codemirror_mode": {
    "name": "ipython",
    "version": 3
   },
   "file_extension": ".py",
   "mimetype": "text/x-python",
   "name": "python",
   "nbconvert_exporter": "python",
   "pygments_lexer": "ipython3",
   "version": "3.5.6"
  }
 },
 "nbformat": 4,
 "nbformat_minor": 2
}
